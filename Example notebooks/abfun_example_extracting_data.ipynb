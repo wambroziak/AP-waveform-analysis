{
 "cells": [
  {
   "cell_type": "markdown",
   "metadata": {},
   "source": [
    "# Extracting data - Using Abfun and a *.abf file\n",
    "# Mildred A. Herrera, Wojciech Ambrosiak\n",
    "# Jan Siemens lab\n",
    "# University of Heidelberg"
   ]
  },
  {
   "cell_type": "code",
   "execution_count": 1,
   "metadata": {},
   "outputs": [],
   "source": [
    "from abfun import *\n",
    "import timeit\n",
    "# In case you need to time a cell, just add the following code:\n",
    "# timeit.timeit()\n",
    "from matplotlib.pyplot import cm\n",
    "import os\n",
    "import matplotlib.colors as mcolors\n",
    "\n"
   ]
  },
  {
   "cell_type": "markdown",
   "metadata": {},
   "source": [
    "# Notes:\n",
    "This file was used to generate habituated cell files, \n",
    "I only replaced the fullpath manually to each one of the files and ran it several times.\n",
    "This cannot be automatic, since you have to select your desired temperature range.\n",
    "<br>\n",
    "<br>\n",
    "Pay attention to the range that you require:\n",
    "First have a look in the range temperature plot and then when extracting all the variables:\n",
    "remember c1 is cold, c2 warm, c3 hot temperatures.\n",
    "For voltage:\n",
    "V1 = v[idx_c2_start[0]:idx_c2_end[0]], replace the 0 with the position that you prefer\n",
    "For time:\n",
    "T1 = t[idx_c2_start[0]:idx_c2_end[0]], \n",
    "<br>\n",
    "<br>\n",
    "In both files I changed the following:\n",
    "<br>\n",
    "no_channels = [0,2] instead of [0,1] as temperature was located differently.\n",
    "lim_l = 600; lim_r = 600 check the phase plots, limits overall. These limits were the best compromise for both.\n",
    "<br>\n",
    "<br>\n",
    "<br>\n",
    "Changes for specific habituated files (I always used the first range after a cold pulse).\n",
    "<br>\n",
    "habituated/624-3.abf - z1_min_length = 50, \n",
    "<br>\n",
    "habituated/624-12.abf - z1_min_length = 50, temperature range was also short for 50s window_raster, so I used 30.\n",
    "<br>\n",
    "habituated/624-7.abf - z1_min_length = 280 - Lost 10 APs of 1162, only 1152 detected. \n",
    "<br>\n",
    "habituated/623-13.abf - z1_min_length = 50\n",
    "<br>\n",
    "habituated/622-12.abf - z1_min_length = 100, lim_l = 500, lim_r = 400, had to use the first temperature."
   ]
  },
  {
   "cell_type": "code",
   "execution_count": 2,
   "metadata": {},
   "outputs": [
    {
     "name": "stdout",
     "output_type": "stream",
     "text": [
      "At position 20, in cell 622-12 : the voltage is -41.20875 mV at 5.0 s with a temperature of 36.01634\n"
     ]
    }
   ],
   "source": [
    "# Part One:\n",
    "# I. Extracting data\n",
    "\n",
    "# Step 1: Add a variable with the name of the file:\n",
    "\n",
    "fullpath = '...exampl/habituated/622-12.abf' #<---- Change here!!\n",
    "filename = os.path.basename(fullpath)\n",
    "name = os.path.splitext(filename)[0]\n",
    "path = os.path.dirname(fullpath)\n",
    "# Step 1: Define the sweep and the number of channels present in the recording:\n",
    "\n",
    "sweep = 0 # User defined\n",
    "\n",
    "no_channels = [0, 2]\n",
    "\n",
    "t, v, c = abf_me(fullpath, sweep, no_channels) # Function inside abfun\n",
    "\n",
    "# t - Time\n",
    "# v - Voltage\n",
    "# c - Temperature\n",
    "\n",
    "#test that it worked:\n",
    "print('At position 20, in cell', name,':', 'the voltage is', v[100000],'mV', 'at', t[100000], 's with a temperature of', c[100000])\n",
    "\n",
    "# This cell takes: 0.006716431002132595 s\n",
    "# timeit.timeit()\n",
    "\n",
    "# Troubleshooting: no_channels = [0, 1] if temperature is located differently"
   ]
  },
  {
   "cell_type": "code",
   "execution_count": 3,
   "metadata": {},
   "outputs": [],
   "source": [
    "# II Temperature:\n",
    "\n",
    "# bins_c = Temperature steps [0, series of meaningful steps, superior limit]\n",
    "bins_c = [0,32.5,33.5,35.5,36.5,38.5,39.5]\n",
    "\n",
    "# Names of the ranges: Includes ranges of interest and non-interest possible within bins_c.\n",
    "names = ['<32.5', '32.5-33.5', '33.5-35.5', '35.5-36.5', '36.5-38.5', '38.5-39.5']\n",
    "\n",
    "# Gives an index to each name of the ranges. Ex. 1: '<32.5', 2: '32.5-33.5'...\n",
    "d = dict(enumerate(names, 1))\n",
    "\n",
    "# Classifies the temperature into bins.\n",
    "c_groups = np.vectorize(d.get)(np.digitize(c, (bins_c)))\n",
    "# The np.digitize will take the temperature and find the bin that contains it.\n",
    "# The np.vectorize will get the range based on the names of the classification\n",
    "# and that is the output of c_groups.\n",
    "\n",
    "# Because we also need to check if the classification was working. I made this list:\n",
    "\n",
    "# tagged_c = A list containing [temperature, classification]\n",
    "tagged_c = [c, c_groups]\n",
    "\n",
    "# Test it:\n",
    "#print(d)\n",
    "#print(len(c)/2)\n",
    "#print(c[6405120])\n",
    "#print(c_groups[6405120])"
   ]
  },
  {
   "cell_type": "code",
   "execution_count": 4,
   "metadata": {},
   "outputs": [],
   "source": [
    "# III. Ranges of interest and testing that the ranges are working:\n",
    "\n",
    "# np.hstack only shapes the output, to make it row-wise.\n",
    "# for np.arrays, np.where is needed. This is similar to a find. \n",
    "# So basically:\n",
    "\n",
    "# c_1 = Make a row of positions where the bin was '32.5-33.5'\n",
    "c_1 = np.hstack(np.where(tagged_c[1] == '32.5-33.5')) \n",
    "c_2 = np.hstack(np.where(tagged_c[1] == '35.5-36.5')) \n",
    "c_3 = np.hstack(np.where(tagged_c[1] == '38.5-39.5')) \n"
   ]
  },
  {
   "cell_type": "code",
   "execution_count": 5,
   "metadata": {},
   "outputs": [
    {
     "data": {
      "text/plain": [
       "array([35.9247, 35.9247, 35.9308, ..., 35.9249, 35.9219, 35.9249],\n",
       "      dtype=float32)"
      ]
     },
     "execution_count": 5,
     "metadata": {},
     "output_type": "execute_result"
    }
   ],
   "source": [
    "# Test the first 100 positions:\n",
    "c[c_2[0:100]]\n"
   ]
  },
  {
   "cell_type": "code",
   "execution_count": 6,
   "metadata": {},
   "outputs": [
    {
     "data": {
      "image/png": "[encoded data removed]",
      "text/plain": [
       "<Figure size 432x288 with 1 Axes>"
      ]
     },
     "metadata": {
      "needs_background": "light"
     },
     "output_type": "display_data"
    }
   ],
   "source": [
    "# I would always plot the whole temperature just to see how it looks like:\n",
    "# you can prettify this later:\n",
    "plt.title('Temperature ramp')\n",
    "plt.plot(t,c, 'k', alpha = 0.5) # alpha makes lines \"transparent\", from black to grey in this example.\n",
    "plt.xlabel('Time [s]')\n",
    "plt.ylabel('Temperature [°C]')\n",
    "plt.show()\n"
   ]
  },
  {
   "cell_type": "code",
   "execution_count": 7,
   "metadata": {},
   "outputs": [],
   "source": [
    "## IV. Getting the beginning and end positions of each temperature change.\n",
    "# Assuming the minimum length of a range of temperature is:\n",
    "min_window = 30 # seconds\n",
    "\n",
    "# Taking into consideration the sampling_rate:\n",
    "sampling_rate = 20000\n",
    "\n",
    "# This function takes the temperature, a group of positions of x temp and the sampling rate.\n",
    "def binbytemp(c, c_x, window, sampling_rate):\n",
    "    cx_st_end = cstartend(c, c_x)\n",
    "    cx_lenpeak= peaklen(cx_st_end)\n",
    "    min_length_c = window * sampling_rate\n",
    "    idx_cx_start, idx_cx_end = idx_peaks_startend(cx_st_end,cx_lenpeak,min_length_c)\n",
    "    cx_vec, cx_id = peaksy(idx_cx_start, idx_cx_end)\n",
    "    return [idx_cx_start, idx_cx_end]\n",
    "\n",
    "\n",
    "# We use the function defined above:\n",
    "# get index c1 start and the index c1 end, based on the bins and longer than x window.\n",
    "[idx_c1_start, idx_c1_end] = binbytemp(c, c_1, min_window, sampling_rate)\n",
    "[idx_c2_start, idx_c2_end] = binbytemp(c, c_2, min_window, sampling_rate)\n",
    "[idx_c3_start, idx_c3_end] = binbytemp(c, c_3, min_window, sampling_rate)\n",
    "\n",
    "# This cell takes: 0.008622665074653924 s to execute.\n",
    "\n"
   ]
  },
  {
   "cell_type": "code",
   "execution_count": 8,
   "metadata": {},
   "outputs": [
    {
     "name": "stdout",
     "output_type": "stream",
     "text": [
      "Temperature range 32.5-33.5 has 1 continous group/s detected:\n",
      "Group 1 Position: 5583795 With a length of 2577774 Datapoints s: 128.8887\n",
      "\n",
      "Temperature range 35.5-36.5 has 2 continous group/s detected:\n",
      "Group 1 Position: 2624316 With a length of 2624316 Datapoints s: 131.2158\n",
      "Group 2 Position: 7122257 With a length of 1080418 Datapoints s: 54.0209\n",
      "\n",
      "Temperature range 38.5-39.5 has 1 continous group/s detected:\n",
      "Group 1 Position: 8474624 With a length of 1105045 Datapoints s 55.25225\n"
     ]
    }
   ],
   "source": [
    "# In case you had several temperature changes of a considerable length. \n",
    "# It is convenient to find their position.\n",
    "# the \\ works like an enter, but keeps running the code.\n",
    "# I use it to keep the code visible:\n",
    "# the / works as a mathematical operation (division).\n",
    "\n",
    "print(\"Temperature range\" , names[1] , \"has\", len(idx_c1_start), \\\n",
    "      \"continous group/s detected:\")\n",
    "for ii in range(0, len(idx_c1_start)):\n",
    "    print(\"Group\", ii + 1, \"Position:\",idx_c1_end[ii], \"With a length of\",\\\n",
    "          idx_c1_end[ii] - idx_c1_start[ii], \"Datapoints\", \"s:\",\\\n",
    "          (idx_c1_end[ii] - idx_c1_start[ii]) / (sampling_rate))\n",
    "print(\"\")\n",
    "print(\"Temperature range\" , names[3] , \"has\", len(idx_c2_start), \\\n",
    "      \"continous group/s detected:\")\n",
    "\n",
    "for ii in range(0, len(idx_c2_start)):\n",
    "    print(\"Group\", ii + 1, \"Position:\",idx_c2_end[ii], \"With a length of\",\\\n",
    "          idx_c2_end[ii] - idx_c2_start[ii], \"Datapoints\", \"s:\",\\\n",
    "          (idx_c2_end[ii] - idx_c2_start[ii]) / (sampling_rate))\n",
    "print(\"\")\n",
    "print(\"Temperature range\" , names[5] , \"has\", len(idx_c3_start), \\\n",
    "      \"continous group/s detected:\")\n",
    "\n",
    "for ii in range(0, len(idx_c3_start)):\n",
    "    print(\"Group\", ii + 1, \"Position:\",idx_c3_end[ii], \"With a length of\",\\\n",
    "          idx_c3_end[ii] - idx_c3_start[ii], \"Datapoints\", \"s\",\\\n",
    "          (idx_c3_end[ii] - idx_c3_start[ii]) / (sampling_rate))\n"
   ]
  },
  {
   "cell_type": "code",
   "execution_count": 9,
   "metadata": {},
   "outputs": [
    {
     "data": {
      "image/png": "[encoded data removed]",
      "text/plain": [
       "<Figure size 432x288 with 1 Axes>"
      ]
     },
     "metadata": {
      "needs_background": "light"
     },
     "output_type": "display_data"
    }
   ],
   "source": [
    "# I would also plot the ranges on top of the temperature:\n",
    "\n",
    "plt.plot(t,c, 'k', alpha = 0.5) # alpha makes lines \"transparent\", from black to grey in this example.\n",
    "\n",
    "# First temperature of interest:\n",
    "plt.plot(t[idx_c1_start[0]],c[idx_c1_start[0]], 'bo')\n",
    "plt.plot(t[idx_c1_end[0]],c[idx_c1_end[0]], 'bo')\n",
    "\n",
    "# Second:\n",
    "plt.plot(t[idx_c2_start[0]],c[idx_c2_start[0]], 'go')\n",
    "plt.plot(t[idx_c2_end[0]],c[idx_c2_end[0]], 'go')\n",
    "\n",
    "# Third:\n",
    "plt.plot(t[idx_c3_start[0]],c[idx_c3_start[0]], 'ro')\n",
    "plt.plot(t[idx_c3_end[0]-1],c[idx_c3_end[0]-1], 'ro')\n",
    "\n",
    "plt.title('Temperature ramp with temperature ranges')\n",
    "plt.xlabel('Time [s]')\n",
    "plt.ylabel('Temperature [°C]')\n",
    "plt.show()\n",
    "\n",
    "plt.show()\n",
    "\n",
    "#Troubleshooting: \n",
    "# Not showing the range you want? check the position that you want to show. ex. idx_c2_start[1] instead of [0]\n",
    "# INDEX OUT OF BOUNDS??, means the last datapoint of the range is missing. Check with color dot is missing:\n",
    "# Adjust by:\n",
    "# t[idx_cx_end[0]-1],c[idx_cx_end[0]-1]\n",
    "# If you forgot to change this, it will only remove one datapoint from the third vector, so no big deal."
   ]
  },
  {
   "cell_type": "markdown",
   "metadata": {},
   "source": []
  },
  {
   "cell_type": "markdown",
   "metadata": {},
   "source": [
    "# Extracting peaks"
   ]
  },
  {
   "cell_type": "code",
   "execution_count": 10,
   "metadata": {},
   "outputs": [],
   "source": [
    "# I. Working with voltage and time:\n",
    "\n",
    "# Now the signal of interest is within the next limits:\n",
    "# For voltage:\n",
    "V1 = v[idx_c2_start[0]:idx_c2_end[0]] # <----- MODIFY HERE!!!!\n",
    "# For time:\n",
    "T1 = t[idx_c2_start[0]:idx_c2_end[0]] # <----- MODIFY HERE!!!!"
   ]
  },
  {
   "cell_type": "code",
   "execution_count": 11,
   "metadata": {},
   "outputs": [],
   "source": [
    "# II. Baseline correction : Slow.\n",
    "# Don't change these:\n",
    "lam = 10**2;p = 0.01;niter = 10 \n",
    "# For this dataset these were the values that worked the best\n",
    "\n",
    "z1 = np.array(baseline_als(V1, lam, p, niter)) # z is v corrected.\n",
    "# This cell takes: 0.012812254019081593 s to execute.\n"
   ]
  },
  {
   "cell_type": "code",
   "execution_count": 29,
   "metadata": {},
   "outputs": [],
   "source": [
    "# III. Using functions defined in abfun to extract the peaks and other info:\n",
    "\n",
    "# the threshold in this case, only says that there are no valleys bigger than -30.\n",
    "thr = -30 # <----- You might have to adjust this, if error when plotting ***\n",
    "\n",
    "z1_valleys = valleyser(z1, T1, thr); # Comment only if the frequency list is almost EMPTY and use next lines:\n",
    "#from scipy.signal import find_peaks\n",
    "#z1_valleys, properties = find_peaks(z1, prominence=(None, 0.6))\n",
    "\n",
    "\n",
    "# Getting the start and end positions and the whole vec.\n",
    "z1_peaks_st_end = peakstartend(z1, z1_valleys);\n",
    "z1_lenpeak = peaklen(z1_peaks_st_end);\n",
    "\n",
    "# Defining the minimum lenght of a spike/peak.\n",
    "z1_min_length = 100 #<------You might have to adjust this, if error when plotting ***\n",
    "# from 50 to 400, multiple of 10.\n",
    "\n",
    "z1_idx_peak_start, z1_idx_peak_end = idx_peaks_startend(z1_peaks_st_end,z1_lenpeak,z1_min_length);\n",
    "\n",
    "# Getting the peaks:\n",
    "z1_peaks_vec, z1_peaks = peaksy(z1_idx_peak_start, z1_idx_peak_end);"
   ]
  },
  {
   "cell_type": "code",
   "execution_count": 30,
   "metadata": {},
   "outputs": [],
   "source": [
    "# Don't change these, unless last resort! If you change them, check the frequency list (next cell)\n",
    "z1_change_l = 30 # Normal 30\n",
    "z1_change_r = 40 # Normal 40\n",
    "z1_total_change = 3\n",
    "z1_peaktop_id, z1_peaktop_v, z1_peaktop_t = peaktop(z1_peaks_vec, z1, T1, thr, z1_change_l, z1_change_r, z1_total_change)"
   ]
  },
  {
   "cell_type": "code",
   "execution_count": 31,
   "metadata": {},
   "outputs": [
    {
     "data": {
      "image/png": "[encoded data removed]",
      "text/plain": [
       "<Figure size 432x288 with 1 Axes>"
      ]
     },
     "metadata": {
      "needs_background": "light"
     },
     "output_type": "display_data"
    }
   ],
   "source": [
    "# Check that the peaks are correctly estimated, and if some are missing modify: z1_min_length to a different range.\n",
    "first_vals = z1[0:100000]\n",
    "first_peaks = sorted(i for i in z1_peaktop_id[0:100] if i <= 100000)\n",
    "plt.plot(first_vals)\n",
    "plt.plot(first_peaks, first_vals[first_peaks], \"x\")\n",
    "plt.show()\n",
    "# Debug: \n",
    "# Check if the peaks with x correspond to the peaks in the first 10000 datapoints.\n",
    "# If not: Check the thr and modify the z1_min_length. "
   ]
  },
  {
   "cell_type": "markdown",
   "metadata": {},
   "source": [
    "# Plotting"
   ]
  },
  {
   "cell_type": "code",
   "execution_count": 32,
   "metadata": {},
   "outputs": [
    {
     "name": "stdout",
     "output_type": "stream",
     "text": [
      "This temperature range has 7 chunks of 20 seconds.\n",
      "The frequency of each window is: [74, 126, 195, 292, 355, 352, 192]\n",
      "Frequency list saved in file:/home/milk/Documents/Siemens/abf_woj1/exampl/habituated/622-12_freq.txt\n",
      "No of APs: 1586\n"
     ]
    }
   ],
   "source": [
    "# I. Extracting the frequency of spikes in windows of given x seconds.\n",
    "window = 20 # shorter windows give false endpoints.\n",
    "# Default 20 s\n",
    "\n",
    "z1_list_peaks = freqx2(t,T1,z1,z1_peaktop_id,sampling_rate,window)\n",
    "z1_freq_list = []\n",
    "for ii in range(len(z1_list_peaks)):\n",
    "    z1_freq_list.append(len(z1_list_peaks[ii]))\n",
    "print('This temperature range has', len(z1_freq_list), 'chunks of', window, 'seconds.')\n",
    "print('The frequency of each window is:',z1_freq_list)\n",
    "\n",
    "# Comment the next lines if you don't want to save it:\n",
    "# Saving this information in a file:\n",
    "freq_filename = str(name)+'_freq.txt'\n",
    "freq_path = os.path.join(path,freq_filename)\n",
    "with open(freq_path, 'w') as f:\n",
    "    for item in z1_freq_list:\n",
    "        f.write(\"%s\\n\" % item)\n",
    "print('Frequency list saved in file:' + freq_path)\n",
    "print(('No of APs: '+ str(np.sum(z1_freq_list))))"
   ]
  },
  {
   "cell_type": "code",
   "execution_count": 33,
   "metadata": {},
   "outputs": [],
   "source": [
    "# # Just to depict the cumulative frequency - SLOW:\n",
    "# plt.plot(np.cumsum(z1_freq_list[0:-1]))\n",
    "# # Do not use the last one for cumulative frequency.\n",
    "#plt.show()\n",
    "#z1_list_peaks[0]\n"
   ]
  },
  {
   "cell_type": "code",
   "execution_count": 34,
   "metadata": {},
   "outputs": [],
   "source": [
    "# II. AP Waveforms and means of 20s."
   ]
  },
  {
   "cell_type": "code",
   "execution_count": 36,
   "metadata": {},
   "outputs": [
    {
     "name": "stdout",
     "output_type": "stream",
     "text": [
      "The total number of spikes in all chunks is: 1584 APs\n"
     ]
    }
   ],
   "source": [
    "# Setting limits for the windows of the APs: \n",
    "lim_l = 500; lim_r = 400; # <------If firing rate is fast, you might have to modify this 500-1000, div by 50.\n",
    "# Default 600.\n",
    "\n",
    "sZ1 = []; sT1 = []; mZ1 = []\n",
    "time_peak = []\n",
    "#list_peaks comes from def xpex\n",
    "\n",
    "# Ignoring the very first peak:\n",
    "z1_list_peaks[0] = np.delete(z1_list_peaks[0],0)\n",
    "\n",
    "for ii in range(0, len(z1_list_peaks)):\n",
    "    sZ1.append(xpex(z1,t,z1_list_peaks[ii],lim_l,lim_r, var = 'signal'))\n",
    "    sT1.append(xpex(z1,t,z1_list_peaks[ii],lim_l,lim_r, var = 'time'))\n",
    "    mZ1.append(xpex(z1,t,z1_list_peaks[ii],lim_l,lim_r, var = 'mean'))\n",
    "    \n",
    "#sZ=np.array([np.array(ii) for ii in sZ])\n",
    "total_no_spikes = sum(len(x) for x in sZ1)\n",
    "print('The total number of spikes in all chunks is:', total_no_spikes, 'APs')\n",
    "\n",
    "# DEBUG:\n",
    "# You get an error??:\n",
    "# ValueError: operands could not be broadcast together with shapes .... \n",
    "# Check how fast it is spiking in datapoints:\n",
    "# z1_list_peaks[0] # Just the first chunk of 20 s\n",
    "# ISP = np.diff(z1_list_peaks[0])\n",
    "# If the results are smaller than the sum of both lims, it is not possible to extract those APs.\n",
    "# Make lim_l and lim_r smaller to 100 for example, and check if it works, then enlarge it until no error.\n",
    "# Debug in part III of Extracting peaks. \n",
    "# z1_min_length = start with 400 and go to 300,200,100, until 50, any number multiple of 10.\n"
   ]
  },
  {
   "cell_type": "code",
   "execution_count": 37,
   "metadata": {},
   "outputs": [],
   "source": [
    "# UNCOMMENT IF CURIOUS:"
   ]
  },
  {
   "cell_type": "code",
   "execution_count": 38,
   "metadata": {},
   "outputs": [],
   "source": [
    "## Plotting the APs:\n",
    "#color1=iter(cm.cool(np.linspace(0,1,len(sZ1[1]))))\n",
    "#\n",
    "##Plotting all APs in x group of chunks:\n",
    "#plt.title(\"first\" + str(window) + \"seconds\")\n",
    "#for ii in range(0,(len(sZ1[1]))): #<----Change 1 to another number to see another group. \n",
    "#    c1=next(color1)\n",
    "#    plt.plot(sZ1[1][ii], alpha = 0.5, c=c1) #only first window \n",
    "#plt.show()\n",
    "#\n",
    "##Plotting mean APs in each chunk:\n",
    "#color=iter(cm.cool(np.linspace(0,1,len(mZ1))))\n",
    "#plt.title(\"Mean of each \" + str(window) + \" seconds window\")\n",
    "#for ii in range(0,len(mZ1)):\n",
    "#    c=next(color)\n",
    "#    plt.plot(mZ1[ii], c=c, linestyle=':') #only means of all windows\n",
    "#plt.show()\n",
    "#\n",
    "## Debug:\n",
    "## You probably only have 1 to 2 chunks of 20 s[0 or 1], do not go to 2."
   ]
  },
  {
   "cell_type": "code",
   "execution_count": 39,
   "metadata": {},
   "outputs": [],
   "source": [
    "# III. Waveform analysis to determine the minimum deflections in the signal, don't change these parameters:\n",
    "# Don't change these (ask me first):\n",
    "\n",
    "chunk_size = 50 # Lim_r + Lim_l should be divisible by this number. \n",
    "# E.g. 50 for 120 will raise an error, contrary to 150.\n",
    "z1_pol_vals = []\n",
    "z1_template = []\n",
    "savgol_window = 101 # Needs to finish with 1.\n",
    "savgol_polynomial = 1 # first order polynomial\n",
    "#temp_site, max_change = peakbase(peaktop_id, z, t, savgol_window, savgol_polynomial)\n",
    "# Result should be a pyramid. If the sides do not reach the base, lim_r or lim_r should be longer.\n",
    "# Second image sides should reach 1.\n",
    "\n",
    "for ii in range(0, len(mZ1)):\n",
    "    z1_pol_vals.append(peakbase(mZ1[ii], t, chunk_size, savgol_window, savgol_polynomial, var = 'peakchange1'))\n",
    "    \n",
    "    \n",
    "for ii in range(0, len(mZ1)):\n",
    "    z1_template.append(peakbase(mZ1[ii], t, chunk_size, savgol_window, savgol_polynomial, var = 'peakchange2'))\n"
   ]
  },
  {
   "cell_type": "code",
   "execution_count": 40,
   "metadata": {},
   "outputs": [
    {
     "data": {
      "image/png": "[encoded data removed]",
      "text/plain": [
       "<Figure size 432x288 with 1 Axes>"
      ]
     },
     "metadata": {
      "needs_background": "light"
     },
     "output_type": "display_data"
    },
    {
     "data": {
      "image/png": "[encoded data removed]",
      "text/plain": [
       "<Figure size 432x288 with 1 Axes>"
      ]
     },
     "metadata": {
      "needs_background": "light"
     },
     "output_type": "display_data"
    }
   ],
   "source": [
    "# Plotting all mean APs in all bins of X seconds:\n",
    "color=iter(cm.cool(np.linspace(0,1,len(z1_pol_vals))))\n",
    "plt.title('Check pyramid')\n",
    "for ii in range(0,len(z1_pol_vals)):\n",
    "    c=next(color)\n",
    "    plt.plot(z1_pol_vals[ii], c=c, linestyle=':') #only means of all windows\n",
    "plt.show()\n",
    "\n",
    "color=iter(cm.cool(np.linspace(0,1,len(z1_pol_vals))))\n",
    "plt.title('Check at least one top 1, base 0')\n",
    "for ii in range(0,len(z1_pol_vals)):\n",
    "    c=next(color)\n",
    "    plt.plot(z1_template[ii], c=c, linestyle=':') #only means of all windows\n",
    "plt.show()\n",
    "\n",
    "# Troubleshooting: Pay attention that in the first plot there is only one pyramid in the center.\n",
    "# And in the second that there is at least one square."
   ]
  },
  {
   "cell_type": "code",
   "execution_count": 41,
   "metadata": {},
   "outputs": [
    {
     "name": "stdout",
     "output_type": "stream",
     "text": [
      "[[0, 838], [0, 866], [13, 799], [0, 785], [0, 759], [0, 787], [0, 796]]\n",
      "Check if you have several initial zeros [0,number], if true you might have to enlarge the lim_l or lim_r.\n"
     ]
    }
   ],
   "source": [
    "# Checking where the minimum deflections start (not threshold) (red and green dot in the next plot)\n",
    "z1_base_id = []\n",
    "\n",
    "for ii in range(0, len(z1_template)):\n",
    "    z1_base_id.append(basepoints(z1_template[ii]))\n",
    "    \n",
    "print(z1_base_id)\n",
    "print('Check if you have several initial zeros [0,number], if true you might have to enlarge the lim_l or lim_r.')"
   ]
  },
  {
   "cell_type": "code",
   "execution_count": 42,
   "metadata": {},
   "outputs": [
    {
     "name": "stdout",
     "output_type": "stream",
     "text": [
      "-35.25290452310573\n",
      "900\n",
      "900\n",
      "-39.565519478176654\n",
      "400 0.0305 3 613\n"
     ]
    },
    {
     "data": {
      "image/png": "[encoded data removed]",
      "text/plain": [
       "<Figure size 432x288 with 1 Axes>"
      ]
     },
     "metadata": {
      "needs_background": "light"
     },
     "output_type": "display_data"
    }
   ],
   "source": [
    "# AP mean of only one chunk:\n",
    "\n",
    "z1_mean_peaktop_id, z1_duration, z1_hpoint_1, z1_hpoint_2 = peakdur(mZ1[1], t, sampling_rate, lim_r, lim_l, z1_base_id[0][1]);\n",
    "\n",
    "print(z1_mean_peaktop_id, abs(z1_duration), z1_hpoint_1, z1_hpoint_2)\n",
    "sTW = t[0:(lim_r + lim_l)]\n",
    "mZW = mZ1[0] # <----Chunk selected:\n",
    "bZW_ini = z1_base_id[0][0] # <----If you select chunk 1 instead change [0][0] to [1][0]\n",
    "bZW_end = z1_base_id[0][1] # <----If you select chunk 1 instead change [0][1] to [1][1]\n",
    "plt.plot(sTW, mZW)\n",
    "#plt.plot(sTW[baseline_l_id], mZ0[baseline_l_id], 'bo')\n",
    "plt.plot(sTW[bZW_ini], mZW[bZW_ini], 'ro')\n",
    "plt.plot(sTW[bZW_end], mZW[bZW_end], 'go')\n",
    "plt.plot(sTW[z1_mean_peaktop_id], mZW[z1_mean_peaktop_id], 'k*')\n",
    "plt.plot(sTW[z1_hpoint_1], mZW[z1_hpoint_1], 'r*')\n",
    "plt.plot(sTW[z1_hpoint_2], mZW[z1_hpoint_2], 'c*')\n",
    "\n",
    "plt.show()\n",
    "\n",
    "# The position of the red dot is the minimum required lim_l, similarly, the green one for the lim_r.\n",
    "# This matters for the phase plots."
   ]
  },
  {
   "cell_type": "code",
   "execution_count": 43,
   "metadata": {},
   "outputs": [
    {
     "name": "stdout",
     "output_type": "stream",
     "text": [
      "-36.00346888684449\n",
      "900\n",
      "900\n",
      "-40.19139925418601\n",
      "-35.25290452310573\n",
      "900\n",
      "900\n",
      "-39.65468970800862\n",
      "-34.5717143641849\n",
      "900\n",
      "900\n",
      "-38.817013719555426\n",
      "-33.48033157385873\n",
      "900\n",
      "900\n",
      "-37.71158915117549\n",
      "-32.715185185561275\n",
      "900\n",
      "900\n",
      "-37.040608516060885\n",
      "-32.495838300624705\n",
      "900\n",
      "900\n",
      "-37.04433880029109\n",
      "-32.55027037496285\n",
      "900\n",
      "900\n",
      "-37.39620900055671\n"
     ]
    },
    {
     "data": {
      "image/png": "[encoded data removed]",
      "text/plain": [
       "<Figure size 1080x720 with 1 Axes>"
      ]
     },
     "metadata": {
      "needs_background": "light"
     },
     "output_type": "display_data"
    }
   ],
   "source": [
    "# Same as above, but the mean of all chunks of X s.\n",
    "\n",
    "sTW = t[0:(lim_r + lim_l)]\n",
    "\n",
    "all_mZW = {}\n",
    "all_bZW_ini = []\n",
    "all_bZW_end = []\n",
    "all_z1_mean_peaktop_id = {}\n",
    "all_z1_duration = {}\n",
    "all_z1_hpoint_1 = {}\n",
    "all_z1_hpoint_2 = {}\n",
    "fig = plt.figure(figsize= (15,10))\n",
    "\n",
    "n = len(mZ1)\n",
    "m_cmap = plt.cm.Set3(np.linspace(.1,.5,n))\n",
    "\n",
    "plt.ylim([-60,40])\n",
    "for ii in range(len(mZ1)):\n",
    "    all_mZW[ii] = mZ1[ii]\n",
    "    all_z1_mean_peaktop_id[ii], all_z1_duration[ii], all_z1_hpoint_1[ii], all_z1_hpoint_2[ii] = peakdur(mZ1[ii], t, sampling_rate, lim_r, lim_l, z1_base_id[ii][1])\n",
    "    #print(z1_mean_peaktop_id, z1_duration, z1_hpoint_1, z1_hpoint_2)\n",
    "    all_bZW_ini.append(z1_base_id[ii][0])\n",
    "    all_bZW_end.append(z1_base_id[ii][1])\n",
    "    plt.plot(sTW, all_mZW[ii], alpha = 0.8, linewidth= 3, color = m_cmap[ii])\n",
    "    #plt.plot(sTW[baseline_l_id], mZ0[baseline_l_id], 'bo')\n",
    "    plt.plot(sTW[all_bZW_ini[ii]], all_mZW[ii][all_bZW_ini[ii]], color = m_cmap[ii], marker = 'o')\n",
    "    plt.plot(sTW[all_bZW_end[ii]], all_mZW[ii][all_bZW_end[ii]], color = m_cmap[ii], marker = 'o')\n",
    "    plt.plot(sTW[all_z1_mean_peaktop_id[ii]], all_mZW[ii][all_z1_mean_peaktop_id[ii]], color = m_cmap[ii], marker = '*')\n",
    "    plt.plot(sTW[all_z1_hpoint_1[ii]], all_mZW[ii][all_z1_hpoint_1[ii]], color = m_cmap[ii], marker = '*')\n",
    "    plt.plot(sTW[all_z1_hpoint_2[ii]], all_mZW[ii][all_z1_hpoint_2[ii]], color = m_cmap[ii], marker = '*')\n",
    "plt.show()\n"
   ]
  },
  {
   "cell_type": "code",
   "execution_count": 44,
   "metadata": {},
   "outputs": [],
   "source": [
    "#Saving the all the means in 20 seconds to a file:\n",
    "\n",
    "mean_AP_filename = str(name)+'_mean_AP.csv'\n",
    "np.savetxt(os.path.join(path,mean_AP_filename), mZ1, delimiter=\",\")"
   ]
  },
  {
   "cell_type": "code",
   "execution_count": 45,
   "metadata": {},
   "outputs": [
    {
     "data": {
      "image/png": "[encoded data removed]",
      "text/plain": [
       "<Figure size 432x288 with 1 Axes>"
      ]
     },
     "metadata": {
      "needs_background": "light"
     },
     "output_type": "display_data"
    }
   ],
   "source": [
    "# Same as above, but the mean of all means:\n",
    "\n",
    "timeVec = sTW = t[0:(lim_r + lim_l)] #same as above\n",
    "mean_mZW = np.mean(list(all_mZW.values()), axis = 0)\n",
    "mean_bZW_ini = int(round(np.mean(all_bZW_ini)))\n",
    "mean_bZW_end = int(round(np.mean(all_bZW_end)))\n",
    "mean_z1_mean_peaktop_id = int(np.mean(list(all_z1_mean_peaktop_id.values())))\n",
    "mean_z1_duration = np.mean(list(all_z1_duration.values()))\n",
    "mean_z1_hpoint_1 = int(round(np.mean(list(all_z1_hpoint_1.values()))))\n",
    "mean_z1_hpoint_2 = int(round(np.mean(list(all_z1_hpoint_2.values()))))\n",
    "\n",
    "# Find just the most abrupt change in the derivative (Threshold of the AP)\n",
    "\n",
    "dy = np.diff(mean_mZW)/1\n",
    "plt.plot(dy)\n",
    "plt.show()\n",
    "mean_peak_start = abs(dy) > 0.2 # <--- You might have to modify this (0.1)\n",
    "start = np.nonzero(mean_peak_start)\n",
    "threshold_AP_pos = start[0][0]"
   ]
  },
  {
   "cell_type": "code",
   "execution_count": 46,
   "metadata": {},
   "outputs": [
    {
     "data": {
      "image/png": "[encoded data removed]",
      "text/plain": [
       "<Figure size 1080x720 with 1 Axes>"
      ]
     },
     "metadata": {
      "needs_background": "light"
     },
     "output_type": "display_data"
    }
   ],
   "source": [
    "# AP mean of allllll means:\n",
    "\n",
    "fig = plt.figure(figsize= (15,10))\n",
    "plt.title('Average of ' + str(total_no_spikes) + ' APs')\n",
    "plt.plot(sTW, mean_mZW, alpha = 0.8, linewidth= 3)\n",
    "#plt.plot(sTW[mean_bZW_ini], mean_mZW[mean_bZW_ini], marker = 'o')\n",
    "#plt.plot(sTW[mean_bZW_end], mean_mZW[mean_bZW_end], marker = 'o')\n",
    "plt.plot(sTW[mean_z1_mean_peaktop_id], mean_mZW[mean_z1_mean_peaktop_id], marker = '*')\n",
    "#plt.plot(sTW[mean_z1_hpoint_1], mean_mZW[mean_z1_hpoint_1],  marker = '*')\n",
    "plt.plot(sTW[mean_z1_hpoint_2], mean_mZW[mean_z1_hpoint_2], marker = 'o')\n",
    "\n",
    "# Threshold:\n",
    "plt.plot(sTW[threshold_AP_pos], mean_mZW[threshold_AP_pos], 'ro')\n",
    "#plt.plot(sTW[start[0][-1]], mean_mZW[start[0][-1]], marker = 'o')\n",
    "plt.show()"
   ]
  },
  {
   "cell_type": "code",
   "execution_count": null,
   "metadata": {},
   "outputs": [],
   "source": []
  },
  {
   "cell_type": "code",
   "execution_count": 47,
   "metadata": {},
   "outputs": [
    {
     "name": "stdout",
     "output_type": "stream",
     "text": [
      "dt is:0.0000500000\n"
     ]
    },
    {
     "data": {
      "image/png": "[encoded data removed]",
      "text/plain": [
       "<Figure size 432x288 with 1 Axes>"
      ]
     },
     "metadata": {
      "needs_background": "light"
     },
     "output_type": "display_data"
    }
   ],
   "source": [
    "# IV. Phase-plot:\n",
    "\n",
    "# Here I am having trouble understanding the derivative units, but the plot is what it should be.\n",
    "dV = np.diff(mean_mZW)\n",
    "dt = np.diff(timeVec) # or just t[1]\n",
    "\n",
    "# Correcting vector mismatch for plotting:\n",
    "dV_dt = (dV/dt)\n",
    "dV_dt_ = dV_dt\n",
    "dV_dt_corr = np.insert(dV_dt_,0,dV_dt[0]);\n",
    "max_dV_dt = np.argmax(dV_dt_corr)\n",
    "\n",
    "plt.plot(mean_mZW,dV_dt_corr)\n",
    "#plt.plot(mean_mZW,dV_dt_corr/sampling_rate) <----- TEST this instead.\n",
    "units_of_derivative = 0.001/0.00005 #(1 mV/in 0.00005 s)\n",
    "plt.show\n",
    "print('dt is:'+ '{0:.10f}'.format(t[1]))"
   ]
  },
  {
   "cell_type": "code",
   "execution_count": null,
   "metadata": {},
   "outputs": [],
   "source": [
    "#V - Raster_plot:\n",
    "\n",
    "window_raster = 20 # seconds\n",
    "z1_spike_data = raster_vec(z1,t,z1_peaktop_id, sampling_rate, window_raster)"
   ]
  },
  {
   "cell_type": "code",
   "execution_count": null,
   "metadata": {},
   "outputs": [],
   "source": [
    "# Draw a spike raster plot\n",
    "cNorm  = mcolors.Normalize(vmin=0, vmax=(len(z1_spike_data)))\n",
    "scalarMap = cm.ScalarMappable(norm=cNorm, cmap='Set3')\n",
    "colorVal = [scalarMap.to_rgba([ii]) for ii in range(0,len(z1_spike_data))]\n",
    "\n",
    "fig = plt.figure(figsize= (10,2))\n",
    "yticks = range(len(z1_spike_data))\n",
    "plt.eventplot(np.flipud(z1_spike_data), color = colorVal) #np.flipud if you want to plot the first windows above.\n",
    "#plt.eventplot(np.flipud(z1_spike_data), color = 'k')\n",
    "plt.title('Spike raster plot')\n",
    "plt.ylabel('window')\n",
    "plt.xlabel('seconds')\n",
    "plt.yticks(yticks, yticks[::-1])\n",
    "plt.show()"
   ]
  },
  {
   "cell_type": "code",
   "execution_count": null,
   "metadata": {},
   "outputs": [],
   "source": [
    "# Saving outputs:"
   ]
  },
  {
   "cell_type": "code",
   "execution_count": null,
   "metadata": {},
   "outputs": [],
   "source": []
  },
  {
   "cell_type": "code",
   "execution_count": null,
   "metadata": {},
   "outputs": [],
   "source": []
  },
  {
   "cell_type": "code",
   "execution_count": 48,
   "metadata": {},
   "outputs": [],
   "source": [
    "# Saving info of rasterplot, only initial 50 s (although to plot it would be better only 20 s)\n",
    "\n",
    "window_raster = 50 #<-----temperature range dependent!!! Default 50 s.\n",
    "spike_data = raster_vec(z1,t,z1_peaktop_id, sampling_rate, window_raster)\n",
    "\n",
    "raster_filename = str(name)+'_raster.txt'\n",
    "np.savetxt(os.path.join(path,raster_filename), spike_data[0]) #<--- Just 1st window\n",
    "    \n",
    "    #open it with genfromtxt\n",
    "    \n",
    "# Debug:\n",
    "# The temperature is very short, so just get the first seconds."
   ]
  },
  {
   "cell_type": "code",
   "execution_count": null,
   "metadata": {},
   "outputs": [],
   "source": []
  },
  {
   "cell_type": "code",
   "execution_count": null,
   "metadata": {},
   "outputs": [],
   "source": []
  },
  {
   "cell_type": "code",
   "execution_count": null,
   "metadata": {},
   "outputs": [],
   "source": []
  },
  {
   "cell_type": "code",
   "execution_count": null,
   "metadata": {},
   "outputs": [],
   "source": []
  },
  {
   "cell_type": "code",
   "execution_count": null,
   "metadata": {},
   "outputs": [],
   "source": []
  }
 ],
 "metadata": {
  "kernelspec": {
   "display_name": "Python 3 (ipykernel)",
   "language": "python",
   "name": "python3"
  },
  "language_info": {
   "codemirror_mode": {
    "name": "ipython",
    "version": 3
   },
   "file_extension": ".py",
   "mimetype": "text/x-python",
   "name": "python",
   "nbconvert_exporter": "python",
   "pygments_lexer": "ipython3",
   "version": "3.9.7"
  },
  "varInspector": {
   "cols": {
    "lenName": 16,
    "lenType": 16,
    "lenVar": 40
   },
   "kernels_config": {
    "python": {
     "delete_cmd_postfix": "",
     "delete_cmd_prefix": "del ",
     "library": "var_list.py",
     "varRefreshCmd": "print(var_dic_list())"
    },
    "r": {
     "delete_cmd_postfix": ") ",
     "delete_cmd_prefix": "rm(",
     "library": "var_list.r",
     "varRefreshCmd": "cat(var_dic_list()) "
    }
   },
   "types_to_exclude": [
    "module",
    "function",
    "builtin_function_or_method",
    "instance",
    "_Feature"
   ],
   "window_display": false
  }
 },
 "nbformat": 4,
 "nbformat_minor": 4
}
